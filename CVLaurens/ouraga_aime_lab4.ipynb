{
 "cells": [
  {
   "cell_type": "markdown",
   "id": "63fcae6b",
   "metadata": {},
   "source": [
    "The tutorials use PyTorch. You will need to load the following dependencies."
   ]
  },
  {
   "cell_type": "code",
   "execution_count": 1,
   "id": "ed8bf2a8",
   "metadata": {},
   "outputs": [],
   "source": [
    "import random\n",
    "\n",
    "import imageio\n",
    "import matplotlib.pyplot as plt\n",
    "import numpy as np\n",
    "import PIL\n",
    "import skimage.transform\n",
    "import torch\n",
    "import torch.nn as nn\n",
    "import torch.utils.data\n",
    "import torchvision\n",
    "from IPython import display\n",
    "from torchvision import datasets, transforms"
   ]
  },
  {
   "cell_type": "markdown",
   "id": "fbe211c3",
   "metadata": {},
   "source": [
    "# Tutorial 2a: Convolutional Neural Network (CNN)"
   ]
  },
  {
   "cell_type": "markdown",
   "id": "56308ba6",
   "metadata": {},
   "source": [
    "The code below may be helpful in visualizing PyTorch tensors as images."
   ]
  },
  {
   "cell_type": "code",
   "execution_count": 2,
   "id": "cdc102f2",
   "metadata": {},
   "outputs": [],
   "source": [
    "%matplotlib inline\n",
    "\n",
    "\n",
    "def show(img):\n",
    "    \"\"\"Show PyTorch tensor img as an image in matplotlib.\"\"\"\n",
    "    npimg = img.cpu().detach().numpy()\n",
    "    plt.imshow(np.transpose(npimg, (1, 2, 0)), interpolation=\"nearest\")\n",
    "    plt.grid(False)\n",
    "    plt.gca().axis(\"off\")\n",
    "\n",
    "\n",
    "def display_thumb(img):\n",
    "    display.display(transforms.Resize(128)(img))"
   ]
  },
  {
   "cell_type": "code",
   "execution_count": 3,
   "id": "7c3b72b3",
   "metadata": {},
   "outputs": [],
   "source": [
    "device = \"mps\""
   ]
  },
  {
   "cell_type": "markdown",
   "id": "1853cfe4",
   "metadata": {},
   "source": [
    "Load MNIST and define train/test functions as before. Please make sure you read the code carefully and understand what it is doing."
   ]
  },
  {
   "cell_type": "code",
   "execution_count": 4,
   "id": "55c24e53",
   "metadata": {},
   "outputs": [],
   "source": [
    "# Load the training and test dataset.\n",
    "mnist_train = datasets.MNIST(\n",
    "    \"/tmp/mnist\", train=True, download=True, transform=transforms.ToTensor()\n",
    ")\n",
    "mnist_test = datasets.MNIST(\n",
    "    \"/tmp/mnist\", train=False, download=True, transform=transforms.ToTensor()\n",
    ")\n",
    "\n",
    "# Size of the batches the data loader will produce.\n",
    "batch_size = 64\n",
    "\n",
    "# This creates the dataloaders.\n",
    "train_loader = torch.utils.data.DataLoader(\n",
    "    mnist_train, batch_size=batch_size, shuffle=True\n",
    ")\n",
    "test_loader = torch.utils.data.DataLoader(\n",
    "    mnist_test, batch_size=batch_size, shuffle=False\n",
    ")"
   ]
  },
  {
   "cell_type": "code",
   "execution_count": 5,
   "id": "92b1e7a6",
   "metadata": {},
   "outputs": [],
   "source": [
    "def train(model, criterion, data_loader, optimizer, num_epochs):\n",
    "    \"\"\"Simple training loop for a PyTorch model.\"\"\"\n",
    "\n",
    "    # Make sure model is in training mode.\n",
    "    model.train()\n",
    "\n",
    "    # Move model to the device (CPU or GPU).\n",
    "    model.to(device)\n",
    "\n",
    "    # Exponential moving average of the loss.\n",
    "    ema_loss = None\n",
    "\n",
    "    # Loop over epochs.\n",
    "    for epoch in range(num_epochs):\n",
    "\n",
    "        # Loop over data.\n",
    "        for batch_idx, (data, target) in enumerate(data_loader):\n",
    "\n",
    "            # Forward pass.\n",
    "            output = model(data.to(device))\n",
    "            loss = criterion(output.to(device), target.to(device))\n",
    "\n",
    "            # Backward pass.\n",
    "            optimizer.zero_grad()\n",
    "            loss.backward()\n",
    "            optimizer.step()\n",
    "\n",
    "            # NOTE: It is important to call .item() on the loss before summing.\n",
    "            if ema_loss is None:\n",
    "                ema_loss = loss.item()\n",
    "            else:\n",
    "                ema_loss += (loss.item() - ema_loss) * 0.01\n",
    "\n",
    "        # Print out progress the end of epoch.\n",
    "        print(\n",
    "            \"Train Epoch: {} \\tLoss: {:.6f}\".format(epoch, ema_loss),\n",
    "        )\n",
    "\n",
    "\n",
    "def test(model, data_loader):\n",
    "    \"\"\"Measures the accuracy of a model on a data set.\"\"\"\n",
    "    # Make sure the model is in evaluation mode.\n",
    "    model.eval()\n",
    "    correct = 0\n",
    "\n",
    "    # We do not need to maintain intermediate activations while testing.\n",
    "    with torch.no_grad():\n",
    "\n",
    "        # Loop over test data.\n",
    "        for data, target in data_loader:\n",
    "\n",
    "            # Forward pass.\n",
    "            output = model(data.to(device))\n",
    "\n",
    "            # Get the label corresponding to the highest predicted probability.\n",
    "            pred = output.argmax(dim=1, keepdim=True)\n",
    "\n",
    "            # Count number of correct predictions.\n",
    "            correct += pred.cpu().eq(target.view_as(pred)).sum().item()\n",
    "\n",
    "    # Print test accuracy.\n",
    "    percent = 100.0 * correct / len(data_loader.dataset)\n",
    "    print(f\"Accuracy: {correct} / {len(data_loader.dataset)} ({percent:.0f}%)\")\n",
    "    return percent"
   ]
  },
  {
   "cell_type": "markdown",
   "id": "d7f848b3",
   "metadata": {},
   "source": [
    "In the last tutorial, you implemented a naive convolution. In this section you will implement your own version of forward pass of nn.Conv2d without using any of PyTorch's (or numpy's) pre-defined convolutional functions."
   ]
  },
  {
   "cell_type": "code",
   "execution_count": 6,
   "id": "8806c1fc",
   "metadata": {},
   "outputs": [],
   "source": [
    "def conv_forward_naive(x, w, b, conv_param):\n",
    "    \"\"\"\n",
    "    A naive Python implementation of a convolutional layer.\n",
    "    The input consists of N data points, each with C channels, height H and\n",
    "    width W. We convolve each input with F different filters, where each filter\n",
    "    spans all C channels and has height HH and width WW.\n",
    "    Input:\n",
    "    - x: Input data of shape (N, C, H, W)\n",
    "    - w: Filter weights of shape (F, C, HH, WW)\n",
    "    - b: Biases, of shape (F,)\n",
    "    - conv_param: A dictionary with the following keys:\n",
    "      - 'stride': The number of pixels between adjacent receptive fields in the\n",
    "        horizontal and vertical directions.\n",
    "      - 'pad': The number of pixels that will be used to zero-pad the input.\n",
    "\n",
    "    During padding, 'pad' zeros should be placed symmetrically (i.e., equally on both sides)\n",
    "    along the height and width axes of the input. Be careful not to modfiy the original\n",
    "    input x directly.\n",
    "    Returns an array.\n",
    "    - out: Output data, of shape (N, F, H', W') where H' and W' are given by\n",
    "      H' = 1 + (H + 2 * pad - HH) / stride\n",
    "      W' = 1 + (W + 2 * pad - WW) / stride\n",
    "    \"\"\"\n",
    "    # out = None\n",
    "\n",
    "    N, C, H, W = x.shape\n",
    "    num_filters, _, filter_height, filter_width = w.shape\n",
    "    stride, pad = conv_param[\"stride\"], conv_param[\"pad\"]\n",
    "\n",
    "    # Check dimensions.\n",
    "    assert (W + 2 * pad - filter_width) % stride == 0, \"width does not work\"\n",
    "    assert (H + 2 * pad - filter_height) % stride == 0, \"height does not work\"\n",
    "\n",
    "    ###########################################################################\n",
    "    # TODO: Implement the forward pass of a convolutional layer without using #\n",
    "    #       nn.Conv2D or other implementations of convolutions. Instead, use  #\n",
    "    #       standard for- and while-loops to iterate over the tensors.        #\n",
    "    #                                                                         #\n",
    "    # Hint: you can use the function torch.nn.functional.pad for padding.     #\n",
    "    ###########################################################################\n",
    "\n",
    "\n",
    "    H_o = 1 + (H + 2 * pad - filter_height) // stride\n",
    "    W_o = 1 + (W + 2 * pad - filter_width) // stride\n",
    "\n",
    "    x = torch.nn.functional.pad(x, pad=(pad, pad, pad, pad))\n",
    "\n",
    "    output = torch.zeros(N, num_filters, H_o, W_o)\n",
    "\n",
    "    for n in range(N):\n",
    "      for c in range(num_filters):\n",
    "        t1 = 0\n",
    "        for i in range(H_o):\n",
    "          t2 = 0\n",
    "          for j in range(W_o):\n",
    "            output[n, c, i, j] = torch.sum(x[n, :, t1:filter_height + t1, t2:filter_width + t2] * w[c,:,:,:]) + b[c]\n",
    "            t2 += stride\n",
    "\n",
    "          t1 += stride\n",
    "    return output"
   ]
  },
  {
   "cell_type": "markdown",
   "id": "b45f89a2",
   "metadata": {},
   "source": [
    "You can test your implementation by running the following testing code:"
   ]
  },
  {
   "cell_type": "code",
   "execution_count": 7,
   "id": "81f45114",
   "metadata": {},
   "outputs": [
    {
     "name": "stdout",
     "output_type": "stream",
     "text": [
      "torch.Size([3, 3, 4, 4])\n",
      "Testing conv_forward_naive\n",
      "difference:  tensor(3.0298e-08)\n",
      "Nice work! Your implementation of a convolution layer works correctly.\n"
     ]
    }
   ],
   "source": [
    "# Make convolution module.\n",
    "w_shape = (3, 3, 4, 4)\n",
    "w = torch.linspace(-0.2, 0.3, steps=torch.prod(torch.tensor(w_shape))).reshape(w_shape)\n",
    "b = torch.linspace(-0.1, 0.2, steps=3)\n",
    "print(w.shape)\n",
    "# Compute output of module and compare against reference values.\n",
    "x_shape = (2, 3, 4, 4)\n",
    "x = torch.linspace(-0.1, 0.5, steps=torch.prod(torch.tensor(x_shape))).reshape(x_shape)\n",
    "out = conv_forward_naive(x, w, b, {\"stride\": 2, \"pad\": 1})\n",
    "\n",
    "correct_out = torch.tensor(\n",
    "    [\n",
    "        [\n",
    "            [[-0.08759809, -0.10987781], [-0.18387192, -0.2109216]],\n",
    "            [[0.21027089, 0.21661097], [0.22847626, 0.23004637]],\n",
    "            [[0.50813986, 0.54309974], [0.64082444, 0.67101435]],\n",
    "        ],\n",
    "        [\n",
    "            [[-0.98053589, -1.03143541], [-1.19128892, -1.24695841]],\n",
    "            [[0.69108355, 0.66880383], [0.59480972, 0.56776003]],\n",
    "            [[2.36270298, 2.36904306], [2.38090835, 2.38247847]],\n",
    "        ],\n",
    "    ]\n",
    ")\n",
    "\n",
    "# Compare your output to ours; difference should be around e-8\n",
    "print(\"Testing conv_forward_naive\")\n",
    "rel_error = ((out - correct_out) / (out + correct_out + 1e-6)).mean()\n",
    "print(\"difference: \", rel_error)\n",
    "if abs(rel_error) < 1e-6:\n",
    "    print(\"Nice work! Your implementation of a convolution layer works correctly.\")\n",
    "else:\n",
    "    print(\n",
    "        \"Something is wrong. The output was expected to be {} but it was {}\".format(\n",
    "            correct_out, out\n",
    "        )\n",
    "    )"
   ]
  },
  {
   "cell_type": "markdown",
   "id": "4897481d",
   "metadata": {},
   "source": [
    "\n",
    "We will now replace the logistic regressor from the last tutorial by a small convolutional network with two convolutional layers and a linear layer, and ReLU activations in between the layers. Implement the model and use the same functions as before to train and test the convolutional network."
   ]
  },
  {
   "cell_type": "code",
   "execution_count": 8,
   "id": "a409f54e",
   "metadata": {},
   "outputs": [
    {
     "name": "stdout",
     "output_type": "stream",
     "text": [
      "Train Epoch: 0 \tLoss: 0.117908\n",
      "Train Epoch: 1 \tLoss: 0.111306\n",
      "Train Epoch: 2 \tLoss: 0.107581\n",
      "Train Epoch: 3 \tLoss: 0.106294\n",
      "Train Epoch: 4 \tLoss: 0.113608\n",
      "Accuracy: 9724 / 10000 (97%)\n"
     ]
    },
    {
     "data": {
      "text/plain": [
       "97.24"
      ]
     },
     "execution_count": 8,
     "metadata": {},
     "output_type": "execute_result"
    }
   ],
   "source": [
    "class ConvolutionalNetwork(nn.Module):\n",
    "    \"\"\"Simple convolutional network.\"\"\"\n",
    "\n",
    "    def __init__(self, image_side_size, num_classes, in_channels=1):\n",
    "        super(ConvolutionalNetwork, self).__init__()\n",
    "\n",
    "        # Fill these in:\n",
    "        ##########################################################################\n",
    "        # TODO: Implement a convulutional and a linear part.                     #\n",
    "        # Hint: see forward() to understand how they should work together.       #\n",
    "        ##########################################################################\n",
    "        out_channels1 = 16\n",
    "        out_channels2 = 8\n",
    "        stride = 1\n",
    "        pad = 1\n",
    "        H = W = image_side_size\n",
    "        filter_height, filter_width = (3,3)\n",
    "        H_o = 1 + (H + 2 * pad - filter_height) // stride\n",
    "        \n",
    "        H_o = 1 + (H_o + 2 * pad - filter_height) // stride\n",
    "    \n",
    "        self.conv_network = nn.Sequential(\n",
    "            nn.Conv2d(in_channels, out_channels1, kernel_size=3, stride=stride, padding=pad),\n",
    "            nn.ReLU(inplace=True),\n",
    "            nn.Conv2d(out_channels1, out_channels=out_channels2, kernel_size=3, stride=stride, padding=pad)\n",
    "        )\n",
    "        \n",
    "        self.linear = torch.nn.Linear(8*H_o**2, num_classes)\n",
    "\n",
    "\n",
    "    def forward(self, x):\n",
    "        x = self.conv_network(x)\n",
    "        x = self.linear(x.view(x.size(0), -1))\n",
    "        return x\n",
    "\n",
    "\n",
    "# Create and train convolutional network.\n",
    "# The accuracy should be around 96%.\n",
    "conv_model = ConvolutionalNetwork(28, 10)\n",
    "###########################################################################\n",
    "# TODO: Create criterion and optimize here.                               #\n",
    "###########################################################################\n",
    "criterion = torch.nn.CrossEntropyLoss()\n",
    "optimizer = torch.optim.Adam(conv_model.parameters(), lr=0.01)\n",
    "train(conv_model, criterion, train_loader, optimizer, num_epochs=5)\n",
    "test(conv_model, test_loader)"
   ]
  },
  {
   "cell_type": "markdown",
   "id": "1675f635",
   "metadata": {},
   "source": [
    "Inspect the filters in the first layer of the trained convolutional network. What do they look like? Why?"
   ]
  },
  {
   "cell_type": "code",
   "execution_count": 9,
   "id": "30cc7070",
   "metadata": {},
   "outputs": [
    {
     "data": {
      "image/png": "[encoded data removed]",
      "text/plain": [
       "<Figure size 640x480 with 1 Axes>"
      ]
     },
     "metadata": {},
     "output_type": "display_data"
    }
   ],
   "source": [
    "first_conv = list(conv_model.conv_network.children())[0]\n",
    "show(\n",
    "    torchvision.utils.make_grid(\n",
    "        first_conv.weight,\n",
    "        normalize=True,\n",
    "        nrow=8,\n",
    "    )\n",
    ")"
   ]
  },
  {
   "cell_type": "code",
   "execution_count": null,
   "id": "72c89d5a",
   "metadata": {},
   "outputs": [],
   "source": []
  },
  {
   "cell_type": "code",
   "execution_count": null,
   "id": "71bc4b50",
   "metadata": {},
   "outputs": [],
   "source": []
  }
 ],
 "metadata": {
  "kernelspec": {
   "display_name": "Python 3 (ipykernel)",
   "language": "python",
   "name": "python3"
  },
  "language_info": {
   "codemirror_mode": {
    "name": "ipython",
    "version": 3
   },
   "file_extension": ".py",
   "mimetype": "text/x-python",
   "name": "python",
   "nbconvert_exporter": "python",
   "pygments_lexer": "ipython3",
   "version": "3.11.5"
  }
 },
 "nbformat": 4,
 "nbformat_minor": 5
}
